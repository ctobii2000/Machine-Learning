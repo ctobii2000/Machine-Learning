{
  "nbformat": 4,
  "nbformat_minor": 0,
  "metadata": {
    "colab": {
      "name": "list_array_examples.ipynb",
      "provenance": [],
      "authorship_tag": "ABX9TyNnIXtmx9fIjrVx24xTABoW",
      "include_colab_link": true
    },
    "kernelspec": {
      "name": "python3",
      "display_name": "Python 3"
    },
    "language_info": {
      "name": "python"
    }
  },
  "cells": [
    {
      "cell_type": "markdown",
      "metadata": {
        "id": "view-in-github",
        "colab_type": "text"
      },
      "source": [
        "<a href=\"https://colab.research.google.com/github/ctobii2000/Machine-Learning/blob/main/list_array_examples.ipynb\" target=\"_parent\"><img src=\"https://colab.research.google.com/assets/colab-badge.svg\" alt=\"Open In Colab\"/></a>"
      ]
    },
    {
      "cell_type": "markdown",
      "metadata": {
        "id": "YXt272RsnVjv"
      },
      "source": [
        "#Khoi tao 1 list"
      ]
    },
    {
      "cell_type": "code",
      "metadata": {
        "id": "6JCT__D1l3xs"
      },
      "source": [
        "colors_1 = [\"red\", \"blue\", \"green\"]"
      ],
      "execution_count": 9,
      "outputs": []
    },
    {
      "cell_type": "code",
      "metadata": {
        "colab": {
          "base_uri": "https://localhost:8080/"
        },
        "id": "i5fOht9ZmqWi",
        "outputId": "777f3595-4089-466c-8373-2029e53b63b8"
      },
      "source": [
        "colors_1"
      ],
      "execution_count": 10,
      "outputs": [
        {
          "output_type": "execute_result",
          "data": {
            "text/plain": [
              "['red', 'blue', 'green']"
            ]
          },
          "metadata": {
            "tags": []
          },
          "execution_count": 10
        }
      ]
    },
    {
      "cell_type": "code",
      "metadata": {
        "id": "tlBdZ38Rmxvm"
      },
      "source": [
        "colors_2 = list((\"red\", \"blue\", \"green\"))"
      ],
      "execution_count": 11,
      "outputs": []
    },
    {
      "cell_type": "code",
      "metadata": {
        "colab": {
          "base_uri": "https://localhost:8080/"
        },
        "id": "vRHfRhZMm8Cm",
        "outputId": "e991f9f5-9bac-4245-d330-f78185259bee"
      },
      "source": [
        "colors_2"
      ],
      "execution_count": 12,
      "outputs": [
        {
          "output_type": "execute_result",
          "data": {
            "text/plain": [
              "['red', 'blue', 'green']"
            ]
          },
          "metadata": {
            "tags": []
          },
          "execution_count": 12
        }
      ]
    },
    {
      "cell_type": "markdown",
      "metadata": {
        "id": "kroW5uL4nlC0"
      },
      "source": [
        "#Indexing"
      ]
    },
    {
      "cell_type": "code",
      "metadata": {
        "colab": {
          "base_uri": "https://localhost:8080/",
          "height": 35
        },
        "id": "F-0vKla6nrcI",
        "outputId": "6aca2b30-7d23-49c7-9281-bc2cc80a1dbd"
      },
      "source": [
        "colors_1[0]"
      ],
      "execution_count": 13,
      "outputs": [
        {
          "output_type": "execute_result",
          "data": {
            "application/vnd.google.colaboratory.intrinsic+json": {
              "type": "string"
            },
            "text/plain": [
              "'red'"
            ]
          },
          "metadata": {
            "tags": []
          },
          "execution_count": 13
        }
      ]
    },
    {
      "cell_type": "code",
      "metadata": {
        "colab": {
          "base_uri": "https://localhost:8080/",
          "height": 35
        },
        "id": "PDtVq9zkolas",
        "outputId": "0987e3e2-0b14-48eb-8e0f-e290b73de27f"
      },
      "source": [
        "colors_2[-1]"
      ],
      "execution_count": 14,
      "outputs": [
        {
          "output_type": "execute_result",
          "data": {
            "application/vnd.google.colaboratory.intrinsic+json": {
              "type": "string"
            },
            "text/plain": [
              "'green'"
            ]
          },
          "metadata": {
            "tags": []
          },
          "execution_count": 14
        }
      ]
    },
    {
      "cell_type": "markdown",
      "metadata": {
        "id": "Amx_-LdBo5Cr"
      },
      "source": [
        "# List Slices\n"
      ]
    },
    {
      "cell_type": "markdown",
      "metadata": {
        "id": "V8MjDflSpWk1"
      },
      "source": [
        "Cú pháp: list[begin:end:step]\n",
        "\n",
        "- begin: Chỉ mục của phần tử đầu tiên\n",
        "- end: Chỉ mục của phần tử sau phần tử cuối cùng\n",
        "- step: Khoảng cách chỉ mục của các phần tử sẽ được lấy ra\n",
        "\n",
        "Hàm này sẽ trả về một list mới được cắt từ phần tử ban đầu cho đến trước phần tử kết thúc\n",
        "\n",
        "Chú ý: Việc cắt List này không ảnh hưởng đến List ban đầu"
      ]
    },
    {
      "cell_type": "code",
      "metadata": {
        "id": "Vr4-So3fo-jV"
      },
      "source": [
        "number = [1, 2, 3, 4, 5]"
      ],
      "execution_count": 15,
      "outputs": []
    },
    {
      "cell_type": "code",
      "metadata": {
        "colab": {
          "base_uri": "https://localhost:8080/"
        },
        "id": "4BssdWNVpFnD",
        "outputId": "93a14f23-780b-428a-bc49-cea6a99b04cd"
      },
      "source": [
        "# Cắt list từ phần tử có chỉ mục là 0 đến phần tử có chỉ mục là 3\n",
        "number[0:4]"
      ],
      "execution_count": 18,
      "outputs": [
        {
          "output_type": "execute_result",
          "data": {
            "text/plain": [
              "[1, 2, 3, 4]"
            ]
          },
          "metadata": {
            "tags": []
          },
          "execution_count": 18
        }
      ]
    },
    {
      "cell_type": "code",
      "metadata": {
        "colab": {
          "base_uri": "https://localhost:8080/"
        },
        "id": "2Bq5FgaQpUQM",
        "outputId": "e31538b3-99dd-4f8e-970c-2e5dbf1449ff"
      },
      "source": [
        "# Same\n",
        "number[0:4:1]"
      ],
      "execution_count": 19,
      "outputs": [
        {
          "output_type": "execute_result",
          "data": {
            "text/plain": [
              "[1, 2, 3, 4]"
            ]
          },
          "metadata": {
            "tags": []
          },
          "execution_count": 19
        }
      ]
    },
    {
      "cell_type": "code",
      "metadata": {
        "colab": {
          "base_uri": "https://localhost:8080/"
        },
        "id": "zz45Cj4ypl-2",
        "outputId": "2452e5e6-4691-43e8-f273-36670116a70b"
      },
      "source": [
        "# Cắt list từ phần tử có chỉ mục là 2 đến hết\n",
        "number[2:]"
      ],
      "execution_count": 21,
      "outputs": [
        {
          "output_type": "execute_result",
          "data": {
            "text/plain": [
              "[3, 4, 5]"
            ]
          },
          "metadata": {
            "tags": []
          },
          "execution_count": 21
        }
      ]
    },
    {
      "cell_type": "code",
      "metadata": {
        "colab": {
          "base_uri": "https://localhost:8080/"
        },
        "id": "TnR2WKJrpz4K",
        "outputId": "d1a24ffa-ddc8-41db-9ab9-1c85952fb9d0"
      },
      "source": [
        "# Copy cả list\n",
        "number[:]"
      ],
      "execution_count": 23,
      "outputs": [
        {
          "output_type": "execute_result",
          "data": {
            "text/plain": [
              "[1, 2, 3, 4, 5]"
            ]
          },
          "metadata": {
            "tags": []
          },
          "execution_count": 23
        }
      ]
    },
    {
      "cell_type": "code",
      "metadata": {
        "colab": {
          "base_uri": "https://localhost:8080/"
        },
        "id": "XlF8li7Hp90-",
        "outputId": "a40adb74-50ac-43af-8b8c-90db7c0532ac"
      },
      "source": [
        "# Cắt list từ đầu đến cuối nhưng có khoảng cách là 2\n",
        "# tức là cắt 3 phần tử có chỉ mục tương đương là 0, 2, 4\n",
        "number[::2]"
      ],
      "execution_count": 25,
      "outputs": [
        {
          "output_type": "execute_result",
          "data": {
            "text/plain": [
              "[1, 3, 5]"
            ]
          },
          "metadata": {
            "tags": []
          },
          "execution_count": 25
        }
      ]
    },
    {
      "cell_type": "code",
      "metadata": {
        "colab": {
          "base_uri": "https://localhost:8080/"
        },
        "id": "pLAFqcsTqJjL",
        "outputId": "705242ba-60c0-428c-f3aa-64887334fd59"
      },
      "source": [
        "#same\n",
        "number[0:5:2]"
      ],
      "execution_count": 30,
      "outputs": [
        {
          "output_type": "execute_result",
          "data": {
            "text/plain": [
              "[1, 3, 5]"
            ]
          },
          "metadata": {
            "tags": []
          },
          "execution_count": 30
        }
      ]
    },
    {
      "cell_type": "code",
      "metadata": {
        "colab": {
          "base_uri": "https://localhost:8080/"
        },
        "id": "7cT0IsL_qaC8",
        "outputId": "9446f65a-d1bf-443d-d2b8-8a70e1d0605b"
      },
      "source": [
        "# Thủ thuật: Đảo ngược list\n",
        "number[::-1]"
      ],
      "execution_count": 32,
      "outputs": [
        {
          "output_type": "execute_result",
          "data": {
            "text/plain": [
              "[5, 4, 3, 2, 1]"
            ]
          },
          "metadata": {
            "tags": []
          },
          "execution_count": 32
        }
      ]
    },
    {
      "cell_type": "code",
      "metadata": {
        "id": "vmip75-xq4eG"
      },
      "source": [
        "number.reverse()"
      ],
      "execution_count": 37,
      "outputs": []
    },
    {
      "cell_type": "code",
      "metadata": {
        "colab": {
          "base_uri": "https://localhost:8080/"
        },
        "id": "wKrKF7faq_uJ",
        "outputId": "8ec6a583-b2f6-40c5-c2f9-efdf07083ec5"
      },
      "source": [
        "number"
      ],
      "execution_count": 38,
      "outputs": [
        {
          "output_type": "execute_result",
          "data": {
            "text/plain": [
              "[5, 4, 3, 2, 1]"
            ]
          },
          "metadata": {
            "tags": []
          },
          "execution_count": 38
        }
      ]
    },
    {
      "cell_type": "markdown",
      "metadata": {
        "id": "KNZJAfXBqoZ8"
      },
      "source": [
        "#Methods (Cac phuong thuc)"
      ]
    },
    {
      "cell_type": "markdown",
      "metadata": {
        "id": "m_a_7aV0rYoz"
      },
      "source": [
        "##1. reverse()\n",
        "\n",
        "Đảo ngược vị trí các phần tử trong list"
      ]
    },
    {
      "cell_type": "code",
      "metadata": {
        "id": "FKElMpxqrHY_"
      },
      "source": [
        "\n",
        "cities = [\"Ha Noi\", \"Ho Chi Minh City\", \"Da Nang\"]"
      ],
      "execution_count": 39,
      "outputs": []
    },
    {
      "cell_type": "code",
      "metadata": {
        "id": "purFQjQwrJuI"
      },
      "source": [
        "cities.reverse()"
      ],
      "execution_count": 40,
      "outputs": []
    },
    {
      "cell_type": "code",
      "metadata": {
        "colab": {
          "base_uri": "https://localhost:8080/"
        },
        "id": "BtW6Cns5rP4m",
        "outputId": "1ee767a3-a1ae-46fc-a8cc-edc6bb214ca9"
      },
      "source": [
        "# Bạn có thể thấy trong trường hợp này list đã bị thay đổi giá trị.\n",
        "# Điều này thể hiện tính khả biến(mutable) của list\n",
        "cities"
      ],
      "execution_count": 41,
      "outputs": [
        {
          "output_type": "execute_result",
          "data": {
            "text/plain": [
              "['Da Nang', 'Ho Chi Minh City', 'Ha Noi']"
            ]
          },
          "metadata": {
            "tags": []
          },
          "execution_count": 41
        }
      ]
    },
    {
      "cell_type": "markdown",
      "metadata": {
        "id": "cGbu1VLjrTOb"
      },
      "source": [
        "##2. append()\n",
        "\n",
        "Thêm một phần tử vào cuối list.\n",
        "\n",
        "Chú ý: Hàm này không trả về list mới mà thay đổi trực tiếp list ban đầu"
      ]
    },
    {
      "cell_type": "code",
      "metadata": {
        "id": "lUgCDiV4rgZQ"
      },
      "source": [
        "cities.append(\"Tay Ninh\")"
      ],
      "execution_count": 42,
      "outputs": []
    },
    {
      "cell_type": "code",
      "metadata": {
        "colab": {
          "base_uri": "https://localhost:8080/"
        },
        "id": "NXZk69kerpgY",
        "outputId": "b170da1e-f176-4647-8d9d-12438fbfc7f7"
      },
      "source": [
        "cities"
      ],
      "execution_count": 43,
      "outputs": [
        {
          "output_type": "execute_result",
          "data": {
            "text/plain": [
              "['Da Nang', 'Ho Chi Minh City', 'Ha Noi', 'Tay Ninh']"
            ]
          },
          "metadata": {
            "tags": []
          },
          "execution_count": 43
        }
      ]
    },
    {
      "cell_type": "markdown",
      "metadata": {
        "id": "dNqiM1a7r28j"
      },
      "source": [
        "##3. pop(index)\n",
        "\n",
        "Xóa đi một phần tử của list\n",
        "\n",
        "- Nếu không có index thì hàm sẽ xóa đi phần tử cuối cùng của list\n",
        "- Nếu có index, hàm sẽ xóa đi phần tử với index tương ứng"
      ]
    },
    {
      "cell_type": "code",
      "metadata": {
        "colab": {
          "base_uri": "https://localhost:8080/",
          "height": 35
        },
        "id": "7j9RrC2WsAMw",
        "outputId": "0066873a-7069-4035-e2e3-283d40b61e13"
      },
      "source": [
        "cities.pop(2)"
      ],
      "execution_count": 44,
      "outputs": [
        {
          "output_type": "execute_result",
          "data": {
            "application/vnd.google.colaboratory.intrinsic+json": {
              "type": "string"
            },
            "text/plain": [
              "'Ha Noi'"
            ]
          },
          "metadata": {
            "tags": []
          },
          "execution_count": 44
        }
      ]
    },
    {
      "cell_type": "code",
      "metadata": {
        "colab": {
          "base_uri": "https://localhost:8080/",
          "height": 35
        },
        "id": "qcYJE5Ads0Xk",
        "outputId": "8d5fd926-a7eb-4da3-d820-57216749f38c"
      },
      "source": [
        "cities.pop()"
      ],
      "execution_count": 45,
      "outputs": [
        {
          "output_type": "execute_result",
          "data": {
            "application/vnd.google.colaboratory.intrinsic+json": {
              "type": "string"
            },
            "text/plain": [
              "'Tay Ninh'"
            ]
          },
          "metadata": {
            "tags": []
          },
          "execution_count": 45
        }
      ]
    },
    {
      "cell_type": "code",
      "metadata": {
        "colab": {
          "base_uri": "https://localhost:8080/"
        },
        "id": "GuwEZSE6s3lM",
        "outputId": "be2f0742-1ca0-456d-fc7b-12a09fa28d43"
      },
      "source": [
        "cities"
      ],
      "execution_count": 46,
      "outputs": [
        {
          "output_type": "execute_result",
          "data": {
            "text/plain": [
              "['Da Nang', 'Ho Chi Minh City']"
            ]
          },
          "metadata": {
            "tags": []
          },
          "execution_count": 46
        }
      ]
    },
    {
      "cell_type": "markdown",
      "metadata": {
        "id": "693TULo8s67n"
      },
      "source": [
        "##4. Insert(index, element)\n",
        "\n",
        "Thêm một phần tử vào list dựa trên một chỉ mục cho trước\n",
        "\n",
        "- index: Vị trí sẽ thêm phần tử mới\n",
        "- elem: Phần tử mới sẽ thêm"
      ]
    },
    {
      "cell_type": "code",
      "metadata": {
        "id": "IXv4IVXwtEht"
      },
      "source": [
        "clc = [\"Hanoi\", 18, \"Listen to Music\"]\n",
        "# Thêm phần tử chuỗi \"THPT Nhi CHieu\" vào vị trí có chỉ mục là 2\n",
        "clc.insert(2, \"THPT Nhi Chieu\")"
      ],
      "execution_count": 47,
      "outputs": []
    },
    {
      "cell_type": "code",
      "metadata": {
        "colab": {
          "base_uri": "https://localhost:8080/"
        },
        "id": "5k6y4vFjtW3O",
        "outputId": "fc79307f-0f84-4751-c057-534c5f613732"
      },
      "source": [
        "clc"
      ],
      "execution_count": 48,
      "outputs": [
        {
          "output_type": "execute_result",
          "data": {
            "text/plain": [
              "['Hanoi', 18, 'THPT Nhi Chieu', 'Listen to Music']"
            ]
          },
          "metadata": {
            "tags": []
          },
          "execution_count": 48
        }
      ]
    },
    {
      "cell_type": "code",
      "metadata": {
        "id": "9s9IIrSitdOY"
      },
      "source": [
        "clc.insert(1, \"Phan Khac Cuong\")"
      ],
      "execution_count": 49,
      "outputs": []
    },
    {
      "cell_type": "code",
      "metadata": {
        "colab": {
          "base_uri": "https://localhost:8080/"
        },
        "id": "9YIDhpP0tmOm",
        "outputId": "4334d702-8df5-4e8b-c9c3-2c549aa0b4d6"
      },
      "source": [
        "clc"
      ],
      "execution_count": 50,
      "outputs": [
        {
          "output_type": "execute_result",
          "data": {
            "text/plain": [
              "['Hanoi', 'Phan Khac Cuong', 18, 'THPT Nhi Chieu', 'Listen to Music']"
            ]
          },
          "metadata": {
            "tags": []
          },
          "execution_count": 50
        }
      ]
    },
    {
      "cell_type": "markdown",
      "metadata": {
        "id": "6g2HAXoStoPu"
      },
      "source": [
        "##5. extend(list2)\n",
        "\n",
        "Ghép một list mới vào list hiện tại"
      ]
    },
    {
      "cell_type": "code",
      "metadata": {
        "id": "ma9DWIzNtuE5"
      },
      "source": [
        "list1 = [\"Phan Khac\"]\n",
        "list2 = [\"Cuong\"]"
      ],
      "execution_count": 51,
      "outputs": []
    },
    {
      "cell_type": "code",
      "metadata": {
        "id": "oJXY3Ce1t5H0"
      },
      "source": [
        "list1.extend(list2)"
      ],
      "execution_count": 52,
      "outputs": []
    },
    {
      "cell_type": "code",
      "metadata": {
        "colab": {
          "base_uri": "https://localhost:8080/"
        },
        "id": "JbbSuJ9pt_KN",
        "outputId": "50a84f47-86e1-4460-e068-7e1130663df2"
      },
      "source": [
        "list1"
      ],
      "execution_count": 53,
      "outputs": [
        {
          "output_type": "execute_result",
          "data": {
            "text/plain": [
              "['Phan Khac', 'Cuong']"
            ]
          },
          "metadata": {
            "tags": []
          },
          "execution_count": 53
        }
      ]
    },
    {
      "cell_type": "markdown",
      "metadata": {
        "id": "XH1vCOELuKah"
      },
      "source": [
        "##6. index(element)\n",
        "\n",
        "Tìm kiếm một phần tử cho trước trong list\n",
        "\n",
        "- Trả về chỉ mục của phần tử đó\n",
        "- Throw error nếu phần tử đang tìm kiếm không nằm trong list"
      ]
    },
    {
      "cell_type": "code",
      "metadata": {
        "id": "kUj51E1UuP2r"
      },
      "source": [
        "cake = [\"cream\", \"ice cream\", \"cookie\", \"sugar\"]"
      ],
      "execution_count": 54,
      "outputs": []
    },
    {
      "cell_type": "code",
      "metadata": {
        "colab": {
          "base_uri": "https://localhost:8080/"
        },
        "id": "V_pQ8mW0ufJI",
        "outputId": "e40f849b-ffe8-4e53-c6ff-ba955cacf841"
      },
      "source": [
        "cake.index(\"cookie\")"
      ],
      "execution_count": 58,
      "outputs": [
        {
          "output_type": "execute_result",
          "data": {
            "text/plain": [
              "2"
            ]
          },
          "metadata": {
            "tags": []
          },
          "execution_count": 58
        }
      ]
    },
    {
      "cell_type": "markdown",
      "metadata": {
        "id": "yzPZG-mhur8_"
      },
      "source": [
        "##7. remove(element)\n",
        "Tìm kiếm một phần tử trong list và xóa nó khỏi list\n",
        "\n",
        "- Throw error nếu phần tử đang tìm kiếm không nằm trong list"
      ]
    },
    {
      "cell_type": "code",
      "metadata": {
        "id": "lGVVeCPvu2Mm"
      },
      "source": [
        "cake.remove(\"cream\")"
      ],
      "execution_count": 59,
      "outputs": []
    },
    {
      "cell_type": "code",
      "metadata": {
        "colab": {
          "base_uri": "https://localhost:8080/"
        },
        "id": "ZlX2fzqau7y4",
        "outputId": "24b3ad14-0d2f-478b-9c35-d07c5de1f84b"
      },
      "source": [
        "cake"
      ],
      "execution_count": 60,
      "outputs": [
        {
          "output_type": "execute_result",
          "data": {
            "text/plain": [
              "['ice cream', 'cookie', 'sugar']"
            ]
          },
          "metadata": {
            "tags": []
          },
          "execution_count": 60
        }
      ]
    },
    {
      "cell_type": "markdown",
      "metadata": {
        "id": "UTpAFHQOvBDq"
      },
      "source": [
        "##8. sort()\n",
        "Sắp xếp list theo ký tự đầu tiên của từng phần tử\n",
        "\n",
        "- Sắp xếp theo chiều xuôi nếu các phần tử là chuỗi bắt đầu bằng chữ cái trong bảng chữ cái\n",
        "- Sắp xếp từ nhỏ đến lớn nếu các phần tử là integer/float"
      ]
    },
    {
      "cell_type": "code",
      "metadata": {
        "id": "SX9Ff5__vKLm"
      },
      "source": [
        "cake.sort()"
      ],
      "execution_count": 61,
      "outputs": []
    },
    {
      "cell_type": "code",
      "metadata": {
        "colab": {
          "base_uri": "https://localhost:8080/"
        },
        "id": "MMNsgqUyvMrq",
        "outputId": "6cf5b714-b9c8-4ada-b798-238770f79966"
      },
      "source": [
        "cake"
      ],
      "execution_count": 62,
      "outputs": [
        {
          "output_type": "execute_result",
          "data": {
            "text/plain": [
              "['cookie', 'ice cream', 'sugar']"
            ]
          },
          "metadata": {
            "tags": []
          },
          "execution_count": 62
        }
      ]
    },
    {
      "cell_type": "code",
      "metadata": {
        "id": "hWPJk2tZvR3W"
      },
      "source": [
        "numbers = [1, 0.8, 0.2, 4, 20]\n",
        "numbers.sort()"
      ],
      "execution_count": 63,
      "outputs": []
    },
    {
      "cell_type": "code",
      "metadata": {
        "colab": {
          "base_uri": "https://localhost:8080/"
        },
        "id": "BO5w_qS6vTib",
        "outputId": "7fe55acd-5603-4858-e5ab-a244ce9da639"
      },
      "source": [
        "numbers"
      ],
      "execution_count": 64,
      "outputs": [
        {
          "output_type": "execute_result",
          "data": {
            "text/plain": [
              "[0.2, 0.8, 1, 4, 20]"
            ]
          },
          "metadata": {
            "tags": []
          },
          "execution_count": 64
        }
      ]
    },
    {
      "cell_type": "markdown",
      "metadata": {
        "id": "JMCNqvOyvoSu"
      },
      "source": [
        "##9.  Thay đổi các phần tử trong list"
      ]
    },
    {
      "cell_type": "code",
      "metadata": {
        "id": "8rAe6YIZvsqr"
      },
      "source": [
        "my_skills = [\"fullstack\", \"machine learning\", \"devops\", \"chit chat\"]"
      ],
      "execution_count": 66,
      "outputs": []
    },
    {
      "cell_type": "code",
      "metadata": {
        "id": "LBikDiR0vwlk"
      },
      "source": [
        "my_skills[2:] = [\"Phan\", \"Khac Cuong\"]"
      ],
      "execution_count": 67,
      "outputs": []
    },
    {
      "cell_type": "code",
      "metadata": {
        "colab": {
          "base_uri": "https://localhost:8080/"
        },
        "id": "8klOwLtRv6b9",
        "outputId": "6ba0c56e-fcf5-41e3-c80e-5633eb68b776"
      },
      "source": [
        "my_skills"
      ],
      "execution_count": 68,
      "outputs": [
        {
          "output_type": "execute_result",
          "data": {
            "text/plain": [
              "['fullstack', 'machine learning', 'Phan', 'Khac Cuong']"
            ]
          },
          "metadata": {
            "tags": []
          },
          "execution_count": 68
        }
      ]
    },
    {
      "cell_type": "markdown",
      "metadata": {
        "id": "aeUIUT2CwK9b"
      },
      "source": [
        "#Function - Hamf\n"
      ]
    },
    {
      "cell_type": "markdown",
      "metadata": {
        "id": "NFGHqJdWwQ8H"
      },
      "source": [
        "##1. len()\n",
        "Trả về số lượng phần tử của một list"
      ]
    },
    {
      "cell_type": "code",
      "metadata": {
        "colab": {
          "base_uri": "https://localhost:8080/"
        },
        "id": "qSordzdFwVFS",
        "outputId": "1583c5bc-03b1-489b-eda5-b9e8a388dba9"
      },
      "source": [
        "len(cake)"
      ],
      "execution_count": 70,
      "outputs": [
        {
          "output_type": "execute_result",
          "data": {
            "text/plain": [
              "3"
            ]
          },
          "metadata": {
            "tags": []
          },
          "execution_count": 70
        }
      ]
    },
    {
      "cell_type": "code",
      "metadata": {
        "colab": {
          "base_uri": "https://localhost:8080/"
        },
        "id": "aDNv4cbZwg8Q",
        "outputId": "c674bb40-b061-4240-edf5-24f601f07a35"
      },
      "source": [
        "len(numbers)"
      ],
      "execution_count": 71,
      "outputs": [
        {
          "output_type": "execute_result",
          "data": {
            "text/plain": [
              "5"
            ]
          },
          "metadata": {
            "tags": []
          },
          "execution_count": 71
        }
      ]
    },
    {
      "cell_type": "markdown",
      "metadata": {
        "id": "Ub4CGvFOwz5s"
      },
      "source": [
        "##2. for in\n",
        "Lặp qua các phần tử của list"
      ]
    },
    {
      "cell_type": "code",
      "metadata": {
        "id": "-fKw1HhLw6J-"
      },
      "source": [
        "nums = [0, 1, 2, 3, 4, 5]   "
      ],
      "execution_count": 81,
      "outputs": []
    },
    {
      "cell_type": "code",
      "metadata": {
        "colab": {
          "base_uri": "https://localhost:8080/"
        },
        "id": "uLXADJP4xAaw",
        "outputId": "6b5664f7-6ec4-417e-ab49-79ab54b70e04"
      },
      "source": [
        "sum = 0\n",
        "for i in nums:\n",
        "    sum += i\n",
        "sum"
      ],
      "execution_count": 82,
      "outputs": [
        {
          "output_type": "execute_result",
          "data": {
            "text/plain": [
              "15"
            ]
          },
          "metadata": {
            "tags": []
          },
          "execution_count": 82
        }
      ]
    },
    {
      "cell_type": "markdown",
      "metadata": {
        "id": "Y0sw7y2syUh-"
      },
      "source": [
        "##3. in\n",
        "Kiểm tra một phần tử tồn tại trong list"
      ]
    },
    {
      "cell_type": "code",
      "metadata": {
        "colab": {
          "base_uri": "https://localhost:8080/"
        },
        "id": "pUpqLQ5jybQN",
        "outputId": "8780aeff-4689-4748-fec2-a578732952f5"
      },
      "source": [
        "i = 1\n",
        "if i in [0, 1, 2]:\n",
        "  print(\"Found\")"
      ],
      "execution_count": 88,
      "outputs": [
        {
          "output_type": "stream",
          "text": [
            "Found\n"
          ],
          "name": "stdout"
        }
      ]
    },
    {
      "cell_type": "code",
      "metadata": {
        "colab": {
          "base_uri": "https://localhost:8080/"
        },
        "id": "1BpgVuH3y29A",
        "outputId": "945d6fc9-12b8-479e-bb35-45968b96f9f7"
      },
      "source": [
        "if \"Cuong\" in [\"Phan\", \"Khac\", \"Cuong\"]:\n",
        "  print(\"Deptrai\")"
      ],
      "execution_count": 89,
      "outputs": [
        {
          "output_type": "stream",
          "text": [
            "Deptrai\n"
          ],
          "name": "stdout"
        }
      ]
    },
    {
      "cell_type": "markdown",
      "metadata": {
        "id": "zXEx0ZLkzbK7"
      },
      "source": [
        "##4. range(number)\n",
        "Trả về một list integer bắt đầu bằng 0 và kết thúc là (number - 1)"
      ]
    },
    {
      "cell_type": "code",
      "metadata": {
        "colab": {
          "base_uri": "https://localhost:8080/"
        },
        "id": "PfSRhdR70EL4",
        "outputId": "3ada5829-ce12-49f1-81d5-9cfd8a565b6b"
      },
      "source": [
        "range(20)"
      ],
      "execution_count": 102,
      "outputs": [
        {
          "output_type": "execute_result",
          "data": {
            "text/plain": [
              "range(0, 20)"
            ]
          },
          "metadata": {
            "tags": []
          },
          "execution_count": 102
        }
      ]
    },
    {
      "cell_type": "markdown",
      "metadata": {
        "id": "XbzUiZG11EKH"
      },
      "source": [
        "##5. while loop\n",
        "Vòng lặp vô tận"
      ]
    },
    {
      "cell_type": "code",
      "metadata": {
        "colab": {
          "base_uri": "https://localhost:8080/"
        },
        "id": "ajjthDcF1Ixe",
        "outputId": "da2b526c-f9b8-4d7b-df6e-1e9f269500ce"
      },
      "source": [
        "equipments = [\"fridge\", \"air conditional\", \"fan\", \"television\"]\n",
        "\n",
        "i = 0\n",
        "while i < len(equipments):\n",
        "    print(equipments[i])\n",
        "    i += 1"
      ],
      "execution_count": 104,
      "outputs": [
        {
          "output_type": "stream",
          "text": [
            "fridge\n",
            "air conditional\n",
            "fan\n",
            "television\n"
          ],
          "name": "stdout"
        }
      ]
    },
    {
      "cell_type": "markdown",
      "metadata": {
        "id": "f1f4ygXh1XOs"
      },
      "source": [
        "##6. map()\n",
        "Trả về một list được tính toán dựa trên điều kiện cho trước"
      ]
    },
    {
      "cell_type": "code",
      "metadata": {
        "id": "aslzg3aW1cd_"
      },
      "source": [
        "number = [10 ,15, 20, 35, 50]"
      ],
      "execution_count": 105,
      "outputs": []
    },
    {
      "cell_type": "code",
      "metadata": {
        "id": "MKJF2LVG1m6q"
      },
      "source": [
        "def half(elem):\n",
        "    return elem/2"
      ],
      "execution_count": 106,
      "outputs": []
    },
    {
      "cell_type": "code",
      "metadata": {
        "colab": {
          "base_uri": "https://localhost:8080/"
        },
        "id": "2E-myaIs1uDr",
        "outputId": "093cc9b7-9e16-4638-c61c-3f03377fcd9b"
      },
      "source": [
        "map(half, number)"
      ],
      "execution_count": 114,
      "outputs": [
        {
          "output_type": "execute_result",
          "data": {
            "text/plain": [
              "<map at 0x7f26c9fd4690>"
            ]
          },
          "metadata": {
            "tags": []
          },
          "execution_count": 114
        }
      ]
    },
    {
      "cell_type": "markdown",
      "metadata": {
        "id": "yNHcc0uR2Z42"
      },
      "source": [
        "##7. filter()\n",
        "Trả về một list được lọc theo một điều kiện cho trước"
      ]
    },
    {
      "cell_type": "markdown",
      "metadata": {
        "id": "5YAt6dRe2e5D"
      },
      "source": [
        "##8. zip()\n",
        "Nhóm các phần tử trong các list ở vị trí có chỉ mục tương ứng, mỗi nhóm trở thành một tuple đồng thời là một phần tử tương ứng trong một list mới"
      ]
    },
    {
      "cell_type": "code",
      "metadata": {
        "id": "Og_yVFX32n89"
      },
      "source": [
        "nums3 = [1, 2, 3]\n",
        "foods = [\"sushi\", \"steak\", \"caviar\"]\n",
        "countries = [\"Japan\", \"US\", \"UK\"]"
      ],
      "execution_count": 116,
      "outputs": []
    },
    {
      "cell_type": "code",
      "metadata": {
        "colab": {
          "base_uri": "https://localhost:8080/"
        },
        "id": "tWqLoLz72spa",
        "outputId": "b7f6f2e0-7367-4098-dd16-ef1d47ae8b50"
      },
      "source": [
        "zip(nums3, foods, countries)"
      ],
      "execution_count": 117,
      "outputs": [
        {
          "output_type": "execute_result",
          "data": {
            "text/plain": [
              "<zip at 0x7f26c9ffe690>"
            ]
          },
          "metadata": {
            "tags": []
          },
          "execution_count": 117
        }
      ]
    }
  ]
}